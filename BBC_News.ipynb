{
  "nbformat": 4,
  "nbformat_minor": 0,
  "metadata": {
    "colab": {
      "name": "BBC News.ipynb",
      "provenance": []
    },
    "kernelspec": {
      "name": "python3",
      "display_name": "Python 3"
    },
    "language_info": {
      "name": "python"
    }
  },
  "cells": [
    {
      "cell_type": "code",
      "metadata": {
        "id": "BjqOUX3Hpe_V"
      },
      "source": [
        "import pandas as pd\n",
        "import numpy as np\n",
        "from sklearn.preprocessing import LabelEncoder\n",
        "from sklearn.feature_extraction.text import TfidfVectorizer\n",
        "from nltk.corpus import stopwords\n",
        "from nltk.stem.porter import PorterStemmer\n",
        "import regex as re\n",
        "import nltk\n",
        "nltk.download('stopwords')"
      ],
      "execution_count": null,
      "outputs": []
    },
    {
      "cell_type": "code",
      "metadata": {
        "id": "1wh1UFvDDmfg"
      },
      "source": [
        "from sklearn.naive_bayes import MultinomialNB\n",
        "from sklearn.tree import DecisionTreeClassifier\n",
        "from sklearn.svm import SVC\n",
        "from sklearn.pipeline import Pipeline"
      ],
      "execution_count": 2,
      "outputs": []
    },
    {
      "cell_type": "code",
      "metadata": {
        "id": "Q9d2663Lppqr"
      },
      "source": [
        "df_train = pd.read_csv('/content/BBC News Train.csv')"
      ],
      "execution_count": 3,
      "outputs": []
    },
    {
      "cell_type": "code",
      "metadata": {
        "colab": {
          "base_uri": "https://localhost:8080/",
          "height": 204
        },
        "id": "VIKmmbzWO9KN",
        "outputId": "3cb9a9e2-c766-48b8-de73-c2048a422137"
      },
      "source": [
        "df_train.head()"
      ],
      "execution_count": 7,
      "outputs": [
        {
          "output_type": "execute_result",
          "data": {
            "text/html": [
              "<div>\n",
              "<style scoped>\n",
              "    .dataframe tbody tr th:only-of-type {\n",
              "        vertical-align: middle;\n",
              "    }\n",
              "\n",
              "    .dataframe tbody tr th {\n",
              "        vertical-align: top;\n",
              "    }\n",
              "\n",
              "    .dataframe thead th {\n",
              "        text-align: right;\n",
              "    }\n",
              "</style>\n",
              "<table border=\"1\" class=\"dataframe\">\n",
              "  <thead>\n",
              "    <tr style=\"text-align: right;\">\n",
              "      <th></th>\n",
              "      <th>ArticleId</th>\n",
              "      <th>Text</th>\n",
              "      <th>Category</th>\n",
              "    </tr>\n",
              "  </thead>\n",
              "  <tbody>\n",
              "    <tr>\n",
              "      <th>0</th>\n",
              "      <td>1833</td>\n",
              "      <td>worldcom ex-boss launches defence lawyers defe...</td>\n",
              "      <td>business</td>\n",
              "    </tr>\n",
              "    <tr>\n",
              "      <th>1</th>\n",
              "      <td>154</td>\n",
              "      <td>german business confidence slides german busin...</td>\n",
              "      <td>business</td>\n",
              "    </tr>\n",
              "    <tr>\n",
              "      <th>2</th>\n",
              "      <td>1101</td>\n",
              "      <td>bbc poll indicates economic gloom citizens in ...</td>\n",
              "      <td>business</td>\n",
              "    </tr>\n",
              "    <tr>\n",
              "      <th>3</th>\n",
              "      <td>1976</td>\n",
              "      <td>lifestyle  governs mobile choice  faster  bett...</td>\n",
              "      <td>tech</td>\n",
              "    </tr>\n",
              "    <tr>\n",
              "      <th>4</th>\n",
              "      <td>917</td>\n",
              "      <td>enron bosses in $168m payout eighteen former e...</td>\n",
              "      <td>business</td>\n",
              "    </tr>\n",
              "  </tbody>\n",
              "</table>\n",
              "</div>"
            ],
            "text/plain": [
              "   ArticleId                                               Text  Category\n",
              "0       1833  worldcom ex-boss launches defence lawyers defe...  business\n",
              "1        154  german business confidence slides german busin...  business\n",
              "2       1101  bbc poll indicates economic gloom citizens in ...  business\n",
              "3       1976  lifestyle  governs mobile choice  faster  bett...      tech\n",
              "4        917  enron bosses in $168m payout eighteen former e...  business"
            ]
          },
          "metadata": {
            "tags": []
          },
          "execution_count": 7
        }
      ]
    },
    {
      "cell_type": "code",
      "metadata": {
        "colab": {
          "base_uri": "https://localhost:8080/"
        },
        "id": "qgNqaIlcPBTi",
        "outputId": "e97f02ee-e2f9-4e30-c6d7-0a742b8d14c8"
      },
      "source": [
        "df_train.isnull().sum()"
      ],
      "execution_count": 8,
      "outputs": [
        {
          "output_type": "execute_result",
          "data": {
            "text/plain": [
              "ArticleId    0\n",
              "Text         0\n",
              "Category     0\n",
              "dtype: int64"
            ]
          },
          "metadata": {
            "tags": []
          },
          "execution_count": 8
        }
      ]
    },
    {
      "cell_type": "code",
      "metadata": {
        "colab": {
          "base_uri": "https://localhost:8080/"
        },
        "id": "NmrqJs9vPJuq",
        "outputId": "cb508e36-7db4-43cb-f1ef-5c1d2e4b8e5f"
      },
      "source": [
        "df_train['Category'].unique()"
      ],
      "execution_count": 10,
      "outputs": [
        {
          "output_type": "execute_result",
          "data": {
            "text/plain": [
              "array(['business', 'tech', 'politics', 'sport', 'entertainment'],\n",
              "      dtype=object)"
            ]
          },
          "metadata": {
            "tags": []
          },
          "execution_count": 10
        }
      ]
    },
    {
      "cell_type": "markdown",
      "metadata": {
        "id": "ubBG40juO1GJ"
      },
      "source": [
        "**Defined a function for pre-processing**"
      ]
    },
    {
      "cell_type": "code",
      "metadata": {
        "id": "FRmiFguHOBxO"
      },
      "source": [
        "def preprocessing(m):\n",
        "  ps = PorterStemmer()\n",
        "  corpus = []\n",
        "  \n",
        "  for i in range(0, len(m)):\n",
        "    text = re.sub('^[a-zA-Z0-9]', ' ', m[i])\n",
        "    text = text.lower()\n",
        "    text = text.split()\n",
        "  \n",
        "    text = [ps.stem(word) for word in text if word not in stopwords.words('english')]\n",
        "    text = ' '.join(text)\n",
        "    corpus.append(text)\n",
        "    \n",
        "  return corpus"
      ],
      "execution_count": 4,
      "outputs": []
    },
    {
      "cell_type": "code",
      "metadata": {
        "id": "4oBZ9fh2Aw_C"
      },
      "source": [
        "text = preprocessing(df_train['Text'])\n",
        "le = LabelEncoder()\n",
        "y = le.fit_transform(df_train['Category'])"
      ],
      "execution_count": 5,
      "outputs": []
    },
    {
      "cell_type": "markdown",
      "metadata": {
        "id": "ogRnqvc-PZlv"
      },
      "source": [
        "**Train-Test-Split**"
      ]
    },
    {
      "cell_type": "code",
      "metadata": {
        "id": "1V07z204p139"
      },
      "source": [
        "from sklearn.model_selection import train_test_split\n",
        "x_train, x_test, y_train, y_test = train_test_split(text, y, test_size = 0.3)"
      ],
      "execution_count": 6,
      "outputs": []
    },
    {
      "cell_type": "code",
      "metadata": {
        "id": "xSFIfVR7Bb_n"
      },
      "source": [
        "pipeline_dt = Pipeline([('TFIDF', TfidfVectorizer()),\n",
        "                        ('Decision', DecisionTreeClassifier())])\n",
        "pipeline_nb = Pipeline([('TFIDF', TfidfVectorizer()),\n",
        "                        ('Naive', MultinomialNB())])\n",
        "pipeline_svc = Pipeline([('TFIDF', TfidfVectorizer()),\n",
        "                        ('Naive', SVC(kernel='linear'))])\n",
        "pipelines = [pipeline_dt, pipeline_nb, pipeline_svc]\n",
        "pipe_dict = {0 : 'decision', 1: 'Naive', 2: 'SVM'} \n"
      ],
      "execution_count": 11,
      "outputs": []
    },
    {
      "cell_type": "code",
      "metadata": {
        "id": "525yDWEaD2fT"
      },
      "source": [
        "# using train_test_split\n",
        "for pipe in pipelines:\n",
        "  pipe.fit(x_train,y_train)\n",
        "  pred = pipe.predict(x_test)"
      ],
      "execution_count": 15,
      "outputs": []
    },
    {
      "cell_type": "markdown",
      "metadata": {
        "id": "2Mw8sLWwP7LR"
      },
      "source": [
        "**Displaying the best model from the Pipeline**"
      ]
    },
    {
      "cell_type": "code",
      "metadata": {
        "colab": {
          "base_uri": "https://localhost:8080/"
        },
        "id": "jC0c4c_Wks4r",
        "outputId": "5857df29-e0c1-4cf8-9989-e5039007c53f"
      },
      "source": [
        "best_acc = 0.0\n",
        "for i, model in enumerate(pipelines):\n",
        "  if model.score(x_test,y_test) > best_acc:\n",
        "    best_acc = model.score(x_test,y_test)\n",
        "    best_model = pipe_dict[i]\n",
        "    key = i\n",
        "print(best_model, best_acc)"
      ],
      "execution_count": 17,
      "outputs": [
        {
          "output_type": "stream",
          "text": [
            "Naive 0.9753914988814317\n"
          ],
          "name": "stdout"
        }
      ]
    },
    {
      "cell_type": "markdown",
      "metadata": {
        "id": "V-cM0ZglQJzT"
      },
      "source": [
        "**Cross Vaildation**"
      ]
    },
    {
      "cell_type": "code",
      "metadata": {
        "colab": {
          "base_uri": "https://localhost:8080/"
        },
        "id": "gpKrj-PHGoQ_",
        "outputId": "b597c213-fd81-4514-ec08-acbfecd8c529"
      },
      "source": [
        "#using cross validation\n",
        "from sklearn.model_selection import cross_val_score\n",
        "for i, pipe in enumerate(pipelines):\n",
        "  score=cross_val_score(pipe,x_train,y_train, cv=5)\n",
        "  print(pipe_dict[i], score.mean())"
      ],
      "execution_count": 18,
      "outputs": [
        {
          "output_type": "stream",
          "text": [
            "decision 0.8024567537725431\n",
            "Naive 0.9635535517114464\n",
            "SVM 0.9712274567537726\n"
          ],
          "name": "stdout"
        }
      ]
    },
    {
      "cell_type": "code",
      "metadata": {
        "id": "uYf5HgyLGz1_"
      },
      "source": [
        ""
      ],
      "execution_count": null,
      "outputs": []
    }
  ]
}